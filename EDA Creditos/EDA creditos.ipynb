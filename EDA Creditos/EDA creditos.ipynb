{
 "cells": [
  {
   "cell_type": "markdown",
   "metadata": {},
   "source": [
    "Inicio de Documento para EDA en creditos segun database en Kaggle: \n",
    "Verificacion de update en github"
   ]
  },
  {
   "cell_type": "code",
   "execution_count": 2,
   "metadata": {},
   "outputs": [],
   "source": [
    "''' Se cargan diversos paquete para EDA'''\n",
    "\n",
    "import numpy as np # algebra lineal\n",
    "import pandas as pd # procesamiento de datos tabulares, leer CSV\n",
    "import matplotlib.pyplot as plt # visulaizacion de datos\n",
    "import seaborn as sns # visualizacion de datos\n",
    "from scipy import stats # estadistica\n",
    "from sklearn.cluster import DBSCAN # valores a tipicos\n",
    "from collections import Counter\n",
    "from fancyimpute import KNN\n",
    "\n"
   ]
  },
  {
   "cell_type": "code",
   "execution_count": null,
   "metadata": {},
   "outputs": [],
   "source": []
  }
 ],
 "metadata": {
  "interpreter": {
   "hash": "669f5abd92f1a410df15b0643b9f42360e277a412fc08ae8bc7d7911cf7e8f3d"
  },
  "kernelspec": {
   "display_name": "Python 3 (ipykernel)",
   "language": "python",
   "name": "python3"
  },
  "language_info": {
   "codemirror_mode": {
    "name": "ipython",
    "version": 3
   },
   "file_extension": ".py",
   "mimetype": "text/x-python",
   "name": "python",
   "nbconvert_exporter": "python",
   "pygments_lexer": "ipython3",
   "version": "3.9.10"
  }
 },
 "nbformat": 4,
 "nbformat_minor": 2
}
